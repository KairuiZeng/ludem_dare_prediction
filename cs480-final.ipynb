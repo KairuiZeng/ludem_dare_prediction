{
 "cells": [
  {
   "cell_type": "code",
   "execution_count": 1,
   "id": "d2190379",
   "metadata": {
    "_cell_guid": "b1076dfc-b9ad-4769-8c92-a6c4dae69d19",
    "_uuid": "8f2839f25d086af736a60e9eeb907d3b93b6e0e5",
    "execution": {
     "iopub.execute_input": "2021-12-12T07:15:38.293829Z",
     "iopub.status.busy": "2021-12-12T07:15:38.292002Z",
     "iopub.status.idle": "2021-12-12T07:15:39.634300Z",
     "shell.execute_reply": "2021-12-12T07:15:39.634797Z",
     "shell.execute_reply.started": "2021-12-12T06:34:24.259296Z"
    },
    "papermill": {
     "duration": 1.360503,
     "end_time": "2021-12-12T07:15:39.635153",
     "exception": false,
     "start_time": "2021-12-12T07:15:38.274650",
     "status": "completed"
    },
    "tags": []
   },
   "outputs": [],
   "source": [
    "# This Python 3 environment comes with many helpful analytics libraries installed\n",
    "# It is defined by the kaggle/python Docker image: https://github.com/kaggle/docker-python\n",
    "# For example, here's several helpful packages to load\n",
    "\n",
    "import numpy as np # linear algebra\n",
    "import pandas as pd # data processing, CSV file I/O (e.g. pd.read_csv)\n",
    "\n",
    "from sklearn.tree import DecisionTreeClassifier\n",
    "from sklearn.model_selection import train_test_split\n",
    "\n",
    "# Input data files are available in the read-only \"../input/\" directory\n",
    "# For example, running this (by clicking run or pressing Shift+Enter) will list all files under the input directory\n",
    "\n",
    "# import os\n",
    "# for dirname, _, filenames in os.walk('/kaggle/input'):\n",
    "#     for filename in filenames:\n",
    "#         print(os.path.join(dirname, filename))\n",
    "\n",
    "# You can write up to 20GB to the current directory (/kaggle/working/) that gets preserved as output when you create a version using \"Save & Run All\" \n",
    "# You can also write temporary files to /kaggle/temp/, but they won't be saved outside of the current session"
   ]
  },
  {
   "cell_type": "code",
   "execution_count": 2,
   "id": "30c0c10b",
   "metadata": {
    "execution": {
     "iopub.execute_input": "2021-12-12T07:15:39.661674Z",
     "iopub.status.busy": "2021-12-12T07:15:39.660689Z",
     "iopub.status.idle": "2021-12-12T07:15:39.663646Z",
     "shell.execute_reply": "2021-12-12T07:15:39.664134Z",
     "shell.execute_reply.started": "2021-12-12T05:13:33.438726Z"
    },
    "papermill": {
     "duration": 0.017802,
     "end_time": "2021-12-12T07:15:39.664301",
     "exception": false,
     "start_time": "2021-12-12T07:15:39.646499",
     "status": "completed"
    },
    "tags": []
   },
   "outputs": [],
   "source": [
    "# /kaggle/input/cs480-2021-fall/sampleSubmission.csv\n",
    "# /kaggle/input/cs480-2021-fall/train.csv\n",
    "# /kaggle/input/cs480-2021-fall/test.csv\n",
    "# /kaggle/input/cs480-2021-fall/thumbnails/thumbnails/125778.jpg"
   ]
  },
  {
   "cell_type": "markdown",
   "id": "c1d8f56a",
   "metadata": {
    "papermill": {
     "duration": 0.01051,
     "end_time": "2021-12-12T07:15:39.685709",
     "exception": false,
     "start_time": "2021-12-12T07:15:39.675199",
     "status": "completed"
    },
    "tags": []
   },
   "source": [
    "Classify with Decision Trees\n",
    "Use K-Fold Cross Validation, generate K decision trees\n",
    "Prune each tree to give the best accuracy\n",
    "Run each tree on the entire data set and get prediction values, determine the success of the trees and weight\n",
    "\n",
    "Classify with each tree and assign a weight to there answer, finalize the value depending on the weighted class"
   ]
  },
  {
   "cell_type": "code",
   "execution_count": 3,
   "id": "81595085",
   "metadata": {
    "execution": {
     "iopub.execute_input": "2021-12-12T07:15:39.713128Z",
     "iopub.status.busy": "2021-12-12T07:15:39.712461Z",
     "iopub.status.idle": "2021-12-12T07:15:40.635185Z",
     "shell.execute_reply": "2021-12-12T07:15:40.635682Z",
     "shell.execute_reply.started": "2021-12-12T05:13:35.814157Z"
    },
    "papermill": {
     "duration": 0.939234,
     "end_time": "2021-12-12T07:15:40.635865",
     "exception": false,
     "start_time": "2021-12-12T07:15:39.696631",
     "status": "completed"
    },
    "tags": []
   },
   "outputs": [],
   "source": [
    "# Fetch training data\n",
    "trainDataPath = \"../input/cs480-2021-fall/train.csv\"\n",
    "trainDataFrame = pd.read_csv(trainDataPath)"
   ]
  },
  {
   "cell_type": "code",
   "execution_count": 4,
   "id": "a397cc23",
   "metadata": {
    "execution": {
     "iopub.execute_input": "2021-12-12T07:15:40.681190Z",
     "iopub.status.busy": "2021-12-12T07:15:40.675919Z",
     "iopub.status.idle": "2021-12-12T07:15:40.733844Z",
     "shell.execute_reply": "2021-12-12T07:15:40.733281Z",
     "shell.execute_reply.started": "2021-12-12T06:59:57.557268Z"
    },
    "papermill": {
     "duration": 0.087097,
     "end_time": "2021-12-12T07:15:40.733996",
     "exception": false,
     "start_time": "2021-12-12T07:15:40.646899",
     "status": "completed"
    },
    "tags": []
   },
   "outputs": [],
   "source": [
    "# Process data\n",
    "\n",
    "# Drop categories that may not be super useful, good to sort with\n",
    "filteredFrame = trainDataFrame.drop(columns=['id', 'name', 'slug', 'path', 'competition-num', 'description', 'published', 'modified', 'version', 'links', 'link-tags'])\n",
    "\n",
    "# Update \"category\" category into binary encoding instead of \"jam\"/\"compo\"\n",
    "filteredFrame.replace({\"jam\":0, \"compo\":1}, inplace=True)\n",
    "\n",
    "# Shuffle\n",
    "filteredFrame = filteredFrame.sample(frac=1).reset_index(drop=True)\n",
    "\n",
    "# Get numpy data\n",
    "yData = filteredFrame['label'].to_numpy()\n",
    "xData = filteredFrame.drop(columns=['label']).to_numpy()\n",
    "\n",
    "# method 1\n",
    "# # Split into 3 sets\n",
    "# length = len(xData)\n",
    "# xData1 = xData[:int(length/3)]\n",
    "# xData2 = xData[int(length/3):int(2*length/3)]\n",
    "# xData3 = xData[int(2*length/3):]\n",
    "# yData1 = yData[:int(length/3)]\n",
    "# yData2 = yData[int(length/3):int(2*length/3)]\n",
    "# yData3 = yData[int(2*length/3):]\n",
    "# # Train 1,2 test 3\n",
    "# xTrain1 = np.append(xData1, xData2, axis=0)\n",
    "# yTrain1 = np.append(yData1, yData2, axis=0)\n",
    "# xTest1 = xData3\n",
    "# yTest1 = yData3\n",
    "# # Train 1,3 test 2\n",
    "# xTrain2 = np.append(xData1, xData3, axis=0)\n",
    "# yTrain2 = np.append(yData1, yData3, axis=0)\n",
    "# xTest2 = xData2\n",
    "# yTest2 = yData2\n",
    "# # Train 2,3 test 1\n",
    "# xTrain3 = np.append(xData2, xData3, axis=0)\n",
    "# yTrain3 = np.append(yData2, yData3, axis=0)\n",
    "# xTest3 = xData1\n",
    "# yTest3 = yData1\n",
    "\n",
    "\n",
    "\n",
    "# method 2\n",
    "# inject some synthetic data because not enough 1 labels\n",
    "xData = np.append(xData, [\n",
    "    [0, 0, 0, 0, 0, 1, 0, 1, 1, 1, 1, 1, 1, 1, 1100, 1100, 1100, 1100, 1100, 1100, 1100],\n",
    "    [1, 0, 0, 0, 0, 1, 0, 1, 1, 1, 1, 1, 1, 1, 1100, 1100, 1100, 1100, 1100, 1100, 1100]\n",
    "], axis = 0)\n",
    "yData = np.append(yData, [1, 1])\n",
    "\n",
    "X_train, X_test, y_train, y_test = train_test_split(xData, yData, test_size=0.33, random_state=42, shuffle=True, stratify=yData)\n",
    "\n",
    "judgecategories = [\"fun\", \"innovation\", \"theme\", \"graphics\", \"audio\", \"humor\", \"mood\"]\n",
    "\n",
    "# for cat in judgecategories:\n",
    "#     print(max(filteredFrame[cat+\"-rank\"]))\n",
    "# filteredFrame.loc[filteredFrame['label'] == 0]\n",
    "# print(len(xData[0]))"
   ]
  },
  {
   "cell_type": "code",
   "execution_count": 5,
   "id": "e70b87d3",
   "metadata": {
    "execution": {
     "iopub.execute_input": "2021-12-12T07:15:40.762109Z",
     "iopub.status.busy": "2021-12-12T07:15:40.761424Z",
     "iopub.status.idle": "2021-12-12T07:15:40.763191Z",
     "shell.execute_reply": "2021-12-12T07:15:40.763675Z",
     "shell.execute_reply.started": "2021-12-12T06:19:49.280465Z"
    },
    "papermill": {
     "duration": 0.018393,
     "end_time": "2021-12-12T07:15:40.763839",
     "exception": false,
     "start_time": "2021-12-12T07:15:40.745446",
     "status": "completed"
    },
    "tags": []
   },
   "outputs": [],
   "source": [
    "# method 1\n",
    "# bigtree = DecisionTreeClassifier()\n",
    "# bigtree.fit(xData, yData)\n",
    "\n",
    "# # Initialize and train trees\n",
    "# tree1 = DecisionTreeClassifier(max_depth=7, min_samples_split=2,min_samples_leaf=9)\n",
    "# tree1.fit(xTrain1, yTrain1)\n",
    "# print(\"Tree 1 trained\")\n",
    "\n",
    "# tree2 = DecisionTreeClassifier(max_depth=7, min_samples_split=4,min_samples_leaf=10)\n",
    "# tree2.fit(xTrain2, yTrain2)\n",
    "# print(\"Tree 2 trained\")\n",
    "\n",
    "# tree3 = DecisionTreeClassifier(max_depth=7, min_samples_split=2,min_samples_leaf=12)\n",
    "# tree3.fit(xTrain3, yTrain3)\n",
    "# print(\"Tree 3 trained\")\n",
    "\n",
    "# # Check accuracy\n",
    "# acc1 = tree1.score(xTest1, yTest1)\n",
    "# # Check accuracy\n",
    "# acc2 = tree2.score(xTest2, yTest2)\n",
    "# # Check accuracy\n",
    "# acc3 = tree3.score(xTest3, yTest3)\n",
    "\n",
    "# print(acc1)\n",
    "# print(acc2)\n",
    "# print(acc3)\n",
    "\n",
    "# totalacc = acc1 + acc2 + acc3"
   ]
  },
  {
   "cell_type": "code",
   "execution_count": 6,
   "id": "8f1f93e3",
   "metadata": {
    "execution": {
     "iopub.execute_input": "2021-12-12T07:15:40.790470Z",
     "iopub.status.busy": "2021-12-12T07:15:40.789716Z",
     "iopub.status.idle": "2021-12-12T07:16:53.956133Z",
     "shell.execute_reply": "2021-12-12T07:16:53.955525Z",
     "shell.execute_reply.started": "2021-12-12T07:07:02.769803Z"
    },
    "papermill": {
     "duration": 73.181581,
     "end_time": "2021-12-12T07:16:53.956294",
     "exception": false,
     "start_time": "2021-12-12T07:15:40.774713",
     "status": "completed"
    },
    "tags": []
   },
   "outputs": [],
   "source": [
    "# Optimize\n",
    "# method 1\n",
    "# # results1 = []\n",
    "# # results2 = []\n",
    "# results3 = []\n",
    "# for crit in [\"gini\"]: # \"entropy\"\n",
    "#     for split in [\"best\"]: # \"random\"\n",
    "#         for depth in range(8,10):\n",
    "#             print(\"depthing :)\")\n",
    "#             for minsampspplit in range(2, 4):\n",
    "#                 for minsampleaf in range(25, 27):\n",
    "#                     for maxfeat in [\"sqrt\", \"log2\", None]:\n",
    "#                         for impur in np.arange(0, 0.3, 0.1):\n",
    "#                             for alpha in np.arange(0, 0.3, 0.1):\n",
    "#                                 tree3 = DecisionTreeClassifier(\n",
    "#                                     criterion=crit,\n",
    "#                                     splitter=split,\n",
    "#                                     max_depth=depth,\n",
    "#                                     min_samples_split=minsampspplit,\n",
    "#                                     min_samples_leaf=minsampleaf,\n",
    "#                                     max_features=maxfeat,\n",
    "#                                     min_impurity_decrease=impur,\n",
    "#                                     class_weight=weight,\n",
    "#                                     ccp_alpha = alpha\n",
    "#                                 )\n",
    "\n",
    "#         #                         tree1.fit(xTrain1, yTrain1)\n",
    "#         #                         tree2.fit(xTrain2, yTrain2)\n",
    "#                                 tree3.fit(xTrain3, yTrain3)\n",
    "#         #                         results1.append([tree1.score(xTest1, yTest1), crit, split, depth, minsampspplit, minsampleaf, weight])\n",
    "#         #                         results2.append([tree2.score(xTest2, yTest2), crit, split, depth, minsampspplit, minsampleaf, weight])\n",
    "#                                 results3.append([tree3.score(xTest3, yTest3), crit, split, depth, minsampspplit, minsampleaf, maxfeat, impur, alpha])\n",
    "\n",
    "# method 2\n",
    "results = []\n",
    "for depth in range(5, 16):\n",
    "    for minsampsplit in range(2, 7):\n",
    "        for minsampleaf in range(1, 10):\n",
    "            tree = DecisionTreeClassifier(max_depth=depth, min_samples_split=minsampsplit, min_samples_leaf=minsampleaf)\n",
    "            tree.fit(X_train, y_train)\n",
    "            results.append([tree.score(X_test, y_test), depth, minsampsplit, minsampleaf])"
   ]
  },
  {
   "cell_type": "code",
   "execution_count": 7,
   "id": "0d5a36bc",
   "metadata": {
    "execution": {
     "iopub.execute_input": "2021-12-12T07:16:53.986739Z",
     "iopub.status.busy": "2021-12-12T07:16:53.985982Z",
     "iopub.status.idle": "2021-12-12T07:16:54.187388Z",
     "shell.execute_reply": "2021-12-12T07:16:54.187849Z",
     "shell.execute_reply.started": "2021-12-12T07:13:48.151926Z"
    },
    "papermill": {
     "duration": 0.220609,
     "end_time": "2021-12-12T07:16:54.188021",
     "exception": false,
     "start_time": "2021-12-12T07:16:53.967412",
     "status": "completed"
    },
    "tags": []
   },
   "outputs": [
    {
     "name": "stdout",
     "output_type": "stream",
     "text": [
      "[0.9324958586416344, 8, 6, 7]\n",
      "[0.932357813362783, 8, 2, 4]\n",
      "[0.932357813362783, 8, 2, 7]\n",
      "[0.932357813362783, 8, 2, 8]\n",
      "[0.932357813362783, 8, 3, 8]\n",
      "[0.932357813362783, 8, 4, 8]\n",
      "[0.932357813362783, 8, 5, 8]\n",
      "[0.932357813362783, 8, 6, 8]\n",
      "[0.9322197680839315, 7, 3, 7]\n",
      "[0.9322197680839315, 8, 5, 2]\n"
     ]
    },
    {
     "data": {
      "text/plain": [
       "DecisionTreeClassifier(max_depth=8, min_samples_leaf=7, min_samples_split=6)"
      ]
     },
     "execution_count": 7,
     "metadata": {},
     "output_type": "execute_result"
    }
   ],
   "source": [
    "# results3.sort(key=lambda x: x[0], reverse=True)\n",
    "# for row in results3[:10]:\n",
    "#     print(row)\n",
    "    \n",
    "results.sort(key=lambda x: x[0], reverse=True)\n",
    "for row in results[:10]:\n",
    "    print(row)\n",
    "# update depth, minsampspplit, minsampleaf\n",
    "\n",
    "optimtree = DecisionTreeClassifier(max_depth=results[0][1], min_samples_split=results[0][2], min_samples_leaf=results[0][3])\n",
    "optimtree.fit(xData, yData)"
   ]
  },
  {
   "cell_type": "code",
   "execution_count": 8,
   "id": "4a2bb222",
   "metadata": {
    "execution": {
     "iopub.execute_input": "2021-12-12T07:16:54.217580Z",
     "iopub.status.busy": "2021-12-12T07:16:54.213846Z",
     "iopub.status.idle": "2021-12-12T07:16:54.436409Z",
     "shell.execute_reply": "2021-12-12T07:16:54.435799Z",
     "shell.execute_reply.started": "2021-12-12T06:20:10.498304Z"
    },
    "papermill": {
     "duration": 0.236796,
     "end_time": "2021-12-12T07:16:54.436550",
     "exception": false,
     "start_time": "2021-12-12T07:16:54.199754",
     "status": "completed"
    },
    "tags": []
   },
   "outputs": [],
   "source": [
    "# Fetch testing data\n",
    "testDataPath = \"../input/cs480-2021-fall/test.csv\"\n",
    "testDataFrame = pd.read_csv(testDataPath)\n",
    "\n",
    "# Get IDs\n",
    "idData = testDataFrame['id'].to_numpy()\n",
    "\n",
    "# Drop categories not used in training\n",
    "filteredTestFrame = testDataFrame.drop(columns=['id', 'name', 'slug', 'path', 'competition-num', 'description', 'published', 'modified', 'version', 'links', 'link-tags'])\n",
    "\n",
    "# Update \"category\" category into binary encoding instead of \"jam\"/\"compo\"\n",
    "filteredTestFrame.replace({\"jam\":0, \"compo\":1}, inplace=True)\n",
    "\n",
    "testData = filteredTestFrame.to_numpy()"
   ]
  },
  {
   "cell_type": "code",
   "execution_count": 9,
   "id": "827340e7",
   "metadata": {
    "execution": {
     "iopub.execute_input": "2021-12-12T07:16:54.466316Z",
     "iopub.status.busy": "2021-12-12T07:16:54.465247Z",
     "iopub.status.idle": "2021-12-12T07:16:54.468830Z",
     "shell.execute_reply": "2021-12-12T07:16:54.468242Z",
     "shell.execute_reply.started": "2021-12-12T07:14:59.518752Z"
    },
    "papermill": {
     "duration": 0.020564,
     "end_time": "2021-12-12T07:16:54.468980",
     "exception": false,
     "start_time": "2021-12-12T07:16:54.448416",
     "status": "completed"
    },
    "tags": []
   },
   "outputs": [],
   "source": [
    "# Method 1\n",
    "# # Make predictions\n",
    "# pred1 = tree1.predict(testData)\n",
    "# pred2 = tree2.predict(testData)\n",
    "# pred3 = tree3.predict(testData)\n",
    "# bigpred = bigtree.predict(testData)\n",
    "\n",
    "# diffs = []\n",
    "# for i in range(len(pred1)):\n",
    "#     if pred1[i] != pred2[i] or pred1[i] != pred3[i] or pred2[i] != pred3[i]:\n",
    "#         diffs.append(i)\n",
    "# finalprediction = np.round((acc1*pred1 + acc2*pred2 + acc3*pred3)/totalacc)\n",
    "# finalprediction = [int(x) for x in finalprediction]\n",
    "\n",
    "# Method 2\n",
    "finalprediction = optimtree.predict(testData)"
   ]
  },
  {
   "cell_type": "code",
   "execution_count": 10,
   "id": "81092bfb",
   "metadata": {
    "execution": {
     "iopub.execute_input": "2021-12-12T07:16:54.499347Z",
     "iopub.status.busy": "2021-12-12T07:16:54.498652Z",
     "iopub.status.idle": "2021-12-12T07:16:54.513242Z",
     "shell.execute_reply": "2021-12-12T07:16:54.513919Z",
     "shell.execute_reply.started": "2021-12-12T07:15:01.648772Z"
    },
    "papermill": {
     "duration": 0.032509,
     "end_time": "2021-12-12T07:16:54.514114",
     "exception": false,
     "start_time": "2021-12-12T07:16:54.481605",
     "status": "completed"
    },
    "tags": []
   },
   "outputs": [],
   "source": [
    "# Submit\n",
    "output = pd.DataFrame({'id': idData,\n",
    "                       'label': finalprediction})\n",
    "output.to_csv('submission.csv', index=False)"
   ]
  },
  {
   "cell_type": "code",
   "execution_count": null,
   "id": "e30674a2",
   "metadata": {
    "papermill": {
     "duration": 0.011277,
     "end_time": "2021-12-12T07:16:54.537020",
     "exception": false,
     "start_time": "2021-12-12T07:16:54.525743",
     "status": "completed"
    },
    "tags": []
   },
   "outputs": [],
   "source": []
  }
 ],
 "metadata": {
  "kernelspec": {
   "display_name": "Python 3",
   "language": "python",
   "name": "python3"
  },
  "language_info": {
   "codemirror_mode": {
    "name": "ipython",
    "version": 3
   },
   "file_extension": ".py",
   "mimetype": "text/x-python",
   "name": "python",
   "nbconvert_exporter": "python",
   "pygments_lexer": "ipython3",
   "version": "3.7.12"
  },
  "papermill": {
   "default_parameters": {},
   "duration": 87.559785,
   "end_time": "2021-12-12T07:16:55.259952",
   "environment_variables": {},
   "exception": null,
   "input_path": "__notebook__.ipynb",
   "output_path": "__notebook__.ipynb",
   "parameters": {},
   "start_time": "2021-12-12T07:15:27.700167",
   "version": "2.3.3"
  }
 },
 "nbformat": 4,
 "nbformat_minor": 5
}
